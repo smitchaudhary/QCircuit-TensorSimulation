{
 "cells": [
  {
   "cell_type": "code",
   "execution_count": 2,
   "id": "7e7523ad",
   "metadata": {},
   "outputs": [],
   "source": [
    "import cirq\n",
    "import numpy as np\n",
    "from utils import *"
   ]
  },
  {
   "cell_type": "code",
   "execution_count": 4,
   "id": "57b1c710",
   "metadata": {},
   "outputs": [
    {
     "data": {
      "image/png": "[encoded data removed]",
      "text/plain": [
       "<Figure size 432x288 with 1 Axes>"
      ]
     },
     "metadata": {
      "needs_background": "light"
     },
     "output_type": "display_data"
    }
   ],
   "source": [
    "data = np.random.random(size = 100)\n",
    "make_histogram(data)"
   ]
  },
  {
   "cell_type": "code",
   "execution_count": 5,
   "metadata": {},
   "outputs": [
    {
     "name": "stdout",
     "output_type": "stream",
     "text": [
      "For 20 layers, fidelity is [0.9382306215527277, 0.9740626599987211, 0.980647580565227, 0.9878836551008003, 0.9945691269793128] for [20, 40, 100, 200, 400] circuits\n",
      "-----------------------------\n",
      "For 30 layers, fidelity is [0.9640726156844197, 0.9777986708023332, 0.990816084038905, 0.9957465453734308, 0.9979979824654708] for [45, 90, 225, 450, 900] circuits\n",
      "-----------------------------\n",
      "For 40 layers, fidelity is [0.9549278174152277, 0.9775603035852135, 0.9902322417345767, 0.994813865277277, 0.9976065005585564] for [80, 160, 400, 800, 1600] circuits\n",
      "-----------------------------\n",
      "For 50 layers, fidelity is [0.9397836593203837, 0.9703975724728464, 0.9881604554698766, 0.9939149443110056, 0.9968418339698285] for [125, 250, 625, 1250, 2500] circuits\n",
      "-----------------------------\n",
      "For 60 layers, fidelity is [0.9104720126158327, 0.9554561650965812, 0.9825543694979348, 0.9911290426985561, 0.9957464235649237] for [180, 360, 900, 1800, 3600] circuits\n",
      "-----------------------------\n"
     ]
    }
   ],
   "source": [
    "fids = []\n",
    "n_qubits_array = [2, 3, 4, 5, 6]\n",
    "for n_qubits in n_qubits_array:\n",
    "    layers_array = [10*n_qubits]\n",
    "    n_circuits_array = [i*n_qubits*n_qubits for i in [5, 10, 25, 50, 100]]#[n_qubits*i for i in [1, 10, 50, 100, 200, 500]]\n",
    "\n",
    "    for layers in layers_array:\n",
    "        fid = []\n",
    "        for n_circuits in n_circuits_array:\n",
    "            angles = np.random.random((n_circuits, layers, n_qubits))\n",
    "            paulis = np.random.randint(0,3,(n_circuits, layers, n_qubits))\n",
    "\n",
    "            final_rho = 0\n",
    "            for i in range(n_circuits):\n",
    "                rho = cirq.final_density_matrix(generate_random_qnn(cirq.GridQubit.rect(1, n_qubits), angles[i], paulis[i], layers, initial_state = \"+\"))\n",
    "                #print(np.trace(rho))\n",
    "                final_rho += rho\n",
    "\n",
    "            final_rho = final_rho/n_circuits\n",
    "\n",
    "            fidelity = cirq.qis.fidelity(I_d(n_qubits), final_rho, qid_shape = 2**n_qubits)\n",
    "            fid.append(fidelity)\n",
    "        fids.append(fid)\n",
    "        print(f'For {layers} layers, fidelity is {fid} for {n_circuits_array} circuits')\n",
    "    print(\"-----------------------------\")\n"
   ]
  },
  {
   "cell_type": "code",
   "execution_count": 10,
   "metadata": {},
   "outputs": [
    {
     "data": {
      "image/png": "[encoded data removed]",
      "text/plain": [
       "<Figure size 432x288 with 1 Axes>"
      ]
     },
     "metadata": {
      "needs_background": "light"
     },
     "output_type": "display_data"
    }
   ],
   "source": [
    "make_histogram(fids)"
   ]
  },
  {
   "cell_type": "code",
   "execution_count": 16,
   "metadata": {},
   "outputs": [
    {
     "name": "stdout",
     "output_type": "stream",
     "text": [
      "<class 'cirq.circuits.circuit.Circuit'>\n"
     ]
    }
   ],
   "source": [
    "print(type(cirq.X))"
   ]
  },
  {
   "cell_type": "markdown",
   "metadata": {},
   "source": []
  }
 ],
 "metadata": {
  "interpreter": {
   "hash": "298fec4f9fbfa3afbd2fd3506194159f797a033af24f0057df60eaacc92f2a3d"
  },
  "kernelspec": {
   "display_name": "Python 3.8.12 64-bit ('honors2': conda)",
   "name": "python3"
  },
  "language_info": {
   "codemirror_mode": {
    "name": "ipython",
    "version": 3
   },
   "file_extension": ".py",
   "mimetype": "text/x-python",
   "name": "python",
   "nbconvert_exporter": "python",
   "pygments_lexer": "ipython3",
   "version": "3.8.12"
  }
 },
 "nbformat": 4,
 "nbformat_minor": 5
}
