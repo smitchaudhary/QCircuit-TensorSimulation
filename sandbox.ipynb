{
 "cells": [
  {
   "cell_type": "code",
   "execution_count": 1,
   "id": "7e7523ad",
   "metadata": {},
   "outputs": [],
   "source": [
    "import cirq\n",
    "import numpy as np\n",
    "from utils import *"
   ]
  },
  {
   "cell_type": "code",
   "execution_count": null,
   "metadata": {},
   "outputs": [],
   "source": [
    "fids = []\n",
    "n_qubits_array = [2, 3, 4, 5, 6]\n",
    "for n_qubits in n_qubits_array:\n",
    "    layers_array = [10*n_qubits]\n",
    "    n_circuits_array = [i*n_qubits*n_qubits for i in [5, 10, 25, 50, 100]]#[n_qubits*i for i in [1, 10, 50, 100, 200, 500]]\n",
    "\n",
    "    for layers in layers_array:\n",
    "        fid = []\n",
    "        for n_circuits in n_circuits_array:\n",
    "            angles = np.random.random((n_circuits, layers, n_qubits))\n",
    "            paulis = np.random.randint(0,3,(n_circuits, layers, n_qubits))\n",
    "\n",
    "            final_rho = 0\n",
    "            for i in range(n_circuits):\n",
    "                rho = cirq.final_density_matrix(generate_random_qnn(cirq.GridQubit.rect(1, n_qubits), angles[i], paulis[i], layers, initial_state = \"+\"))\n",
    "                #print(np.trace(rho))\n",
    "                final_rho += rho\n",
    "\n",
    "            final_rho = final_rho/n_circuits\n",
    "\n",
    "            fidelity = cirq.qis.fidelity(I_d(n_qubits), final_rho, qid_shape = 2**n_qubits)\n",
    "            fid.append(fidelity)\n",
    "        fids.append(fid)\n",
    "        print(f'For {layers} layers, fidelity is {fid} for {n_circuits_array} circuits')\n",
    "    print(\"-----------------------------\")\n"
   ]
  },
  {
   "cell_type": "code",
   "execution_count": null,
   "metadata": {},
   "outputs": [],
   "source": [
    "def fid_data():\n",
    "    n_qubits_array = [4]#[2,3,4,5,6,7]\n",
    "    fids = {}\n",
    "    for n_qubits in n_qubits_array:\n",
    "        fid_fixed_n_qubits = {}\n",
    "        n_unitaries_array = [i*n_qubits*n_qubits for i in [50]]#[2, 5, 10, 25, 50, 100]]\n",
    "        for n_unitaries in n_unitaries_array:\n",
    "            unitary_design = [cirq.testing.random_unitary(2**n_qubits) for i in range(n_unitaries)]\n",
    "            init_state = cirq.testing.random_superposition(2**n_qubits)\n",
    "            #init_state = random_initial_state(n_qubits)\n",
    "            #init_state = np.array([0 for i in range(2**n_qubits)])\n",
    "            #init_state[0] = 1\n",
    "            rho = 0\n",
    "            for u in unitary_design:\n",
    "                state = np.matmul(u, init_state)\n",
    "                rho += (1/n_unitaries)*cirq.qis.density_matrix_from_state_vector(np.matmul(u,init_state))\n",
    "            fidelity = cirq.qis.fidelity(I_d(n_qubits), rho, qid_shape=2**n_qubits)\n",
    "            fid_fixed_n_qubits[n_unitaries] = fidelity\n",
    "        fids[n_qubits] = fid_fixed_n_qubits\n",
    "    return fidelity"
   ]
  },
  {
   "cell_type": "code",
   "execution_count": 2,
   "metadata": {},
   "outputs": [],
   "source": [
    "from utils import *\n",
    "A = pauli_decomposition([[1, 0],[0, 1]])"
   ]
  },
  {
   "cell_type": "code",
   "execution_count": 2,
   "metadata": {},
   "outputs": [],
   "source": [
    "I = [[1, 0], [0, 1]]\n",
    "I = np.kron(I, I)\n",
    "A = pauli_decomposition(I)"
   ]
  },
  {
   "cell_type": "code",
   "execution_count": 3,
   "metadata": {},
   "outputs": [
    {
     "name": "stdout",
     "output_type": "stream",
     "text": [
      "{'00': 4, '01': 0, '02': 0j, '03': 0, '10': 0, '11': 0, '12': 0j, '13': 0, '20': 0j, '21': 0j, '22': 0j, '23': 0j, '30': 0, '31': 0, '32': 0j, '33': 0}\n"
     ]
    }
   ],
   "source": [
    "print(A)"
   ]
  },
  {
   "cell_type": "code",
   "execution_count": null,
   "metadata": {},
   "outputs": [],
   "source": []
  }
 ],
 "metadata": {
  "interpreter": {
   "hash": "298fec4f9fbfa3afbd2fd3506194159f797a033af24f0057df60eaacc92f2a3d"
  },
  "kernelspec": {
   "display_name": "Python 3.8.12 64-bit ('honors2': conda)",
   "name": "python3"
  },
  "language_info": {
   "codemirror_mode": {
    "name": "ipython",
    "version": 3
   },
   "file_extension": ".py",
   "mimetype": "text/x-python",
   "name": "python",
   "nbconvert_exporter": "python",
   "pygments_lexer": "ipython3",
   "version": "3.8.12"
  }
 },
 "nbformat": 4,
 "nbformat_minor": 5
}
